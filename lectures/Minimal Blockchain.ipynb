{
 "cells": [
  {
   "cell_type": "markdown",
   "metadata": {
    "pycharm": {
     "name": "#%% md\n"
    }
   },
   "source": [
    "# Creating a minimal Blockchain\n",
    "This notebook is based on [this blog post](https://medium.com/crypto-currently/lets-build-the-tiniest-blockchain-e70965a248b)"
   ]
  },
  {
   "cell_type": "code",
   "execution_count": 4,
   "metadata": {
    "pycharm": {
     "name": "#%%\n"
    }
   },
   "outputs": [],
   "source": [
    "import hashlib as hasher\n",
    "import datetime as date"
   ]
  },
  {
   "cell_type": "code",
   "execution_count": 9,
   "metadata": {
    "pycharm": {
     "name": "#%%\n"
    }
   },
   "outputs": [],
   "source": [
    "class Block:\n",
    "    def __init__(self, index, timestamp, data, previous_hash):\n",
    "        self.index = index\n",
    "        self.timestamp = timestamp\n",
    "        self.data = data\n",
    "        self.previous_hash = previous_hash\n",
    "        self.hash = self.hash_block()\n",
    "\n",
    "    def hash_block(self):\n",
    "        sha = hasher.sha256()\n",
    "        sha.update(str(self.index).encode('utf8') +\n",
    "                   str(self.timestamp).encode('utf8') +\n",
    "                   str(self.data).encode('utf8') +\n",
    "                   str(self.previous_hash).encode('utf8'))\n",
    "        return sha.hexdigest()\n"
   ]
  },
  {
   "cell_type": "code",
   "execution_count": 10,
   "metadata": {
    "pycharm": {
     "name": "#%%\n"
    }
   },
   "outputs": [],
   "source": [
    "def create_genesis_block():\n",
    "    '''\n",
    "    Manually construct a block with\n",
    "    index zero and arbitrary previous hash\n",
    "    '''\n",
    "    return Block(0, date.datetime.now(), \"Genesis Block\", \"0\")"
   ]
  },
  {
   "cell_type": "code",
   "execution_count": 11,
   "metadata": {
    "pycharm": {
     "name": "#%%\n"
    }
   },
   "outputs": [],
   "source": [
    "def next_block(last_block):\n",
    "    this_index = last_block.index + 1\n",
    "    this_timestamp = date.datetime.now()\n",
    "    this_data = \"Hey! I'm block \" + str(this_index)\n",
    "    this_hash = last_block.hash\n",
    "    return Block(this_index, this_timestamp, this_data, this_hash)"
   ]
  },
  {
   "cell_type": "code",
   "execution_count": 12,
   "metadata": {
    "pycharm": {
     "name": "#%%\n"
    }
   },
   "outputs": [
    {
     "name": "stdout",
     "output_type": "stream",
     "text": [
      "Block #1 has been added to the blockchain!\n",
      "Hash: be70bb6be9c8d790a7028606bb75df241c96db0adeb4696d3174e7817049c58e\n",
      "\n",
      "Block #2 has been added to the blockchain!\n",
      "Hash: c3f9a65c08622a3c1e57246d7774dafb3588812455ab75b6665c87a9f1a5b76a\n",
      "\n",
      "Block #3 has been added to the blockchain!\n",
      "Hash: 5a65b28847990b63738dfdc3d12db9a1671170c91666a8cfc9c2bd337f6d4ffa\n",
      "\n",
      "Block #4 has been added to the blockchain!\n",
      "Hash: daf02d6ec109fd1a1f931e0ed2f9cb3544bc70b508bfa3aba7b04177cf896c67\n",
      "\n",
      "Block #5 has been added to the blockchain!\n",
      "Hash: e75add99c98b3578223d68c2c57e955090efd9ef11d2cad61f70d3381d7dcb18\n",
      "\n",
      "Block #6 has been added to the blockchain!\n",
      "Hash: 11b160079071cbef3640c29be7b49359b3811a16fe2abb301f49116c8f9c5425\n",
      "\n",
      "Block #7 has been added to the blockchain!\n",
      "Hash: 40c9919edd970f2eb932369afa6bae4b7d862ec0df167710a107db9cec17fab2\n",
      "\n",
      "Block #8 has been added to the blockchain!\n",
      "Hash: a69ffeaee2141cc790f2d75f62224b22e3db8028eb60bb260df185ce5c49330a\n",
      "\n",
      "Block #9 has been added to the blockchain!\n",
      "Hash: ad5f4944e3d3f097b90dc427078a03e72b9d2338f80a840ee3d3bfd3fbe6006b\n",
      "\n",
      "Block #10 has been added to the blockchain!\n",
      "Hash: 3c7a0b0d7357c5c64604d9d144682c1a82d04125e1756009065b460152b0bdc8\n",
      "\n",
      "Block #11 has been added to the blockchain!\n",
      "Hash: 7d5e51bcd1ed42aaf77b2d5de4c92493af74ec783d7d8eabb97345ea3989fdfe\n",
      "\n",
      "Block #12 has been added to the blockchain!\n",
      "Hash: 191e783e5dde54f4d0e053551d1e9f255d81392709abe4fdd649974f64c935f2\n",
      "\n",
      "Block #13 has been added to the blockchain!\n",
      "Hash: 843532e2bcbae93f1bbdee47801099c4ad5edf716d7d01bb2eb33ec6c7856279\n",
      "\n",
      "Block #14 has been added to the blockchain!\n",
      "Hash: b53da2c0b83f50038135454682c157a0bb6f3a963901aeb560096902f1c13aa5\n",
      "\n",
      "Block #15 has been added to the blockchain!\n",
      "Hash: ca6ca5073a42dcb8c9f6fb0ad788ab06830dc860e23374514c3692561deea6a5\n",
      "\n",
      "Block #16 has been added to the blockchain!\n",
      "Hash: 9433fdebc2d8a2b6737eebd73ead64724b16993a3c060e2e6195b77e13f247d4\n",
      "\n",
      "Block #17 has been added to the blockchain!\n",
      "Hash: ac0e363cb3898dbd0c8da94ea4772fcf55527650dfa94c2b5ae4b0a722cb14fe\n",
      "\n",
      "Block #18 has been added to the blockchain!\n",
      "Hash: bf67b1791f58c7265165371fb439ff5b8ac12ede803005fe526f2cd73f460a60\n",
      "\n",
      "Block #19 has been added to the blockchain!\n",
      "Hash: 1069b68f491c80852e2d36413f25c8892df5157c98897c541ef7486d5ac2e4b4\n",
      "\n",
      "Block #20 has been added to the blockchain!\n",
      "Hash: 712423e9bbac77a5848d75c324c1cd752e7b658287b0079c1bb7b9a3af31a105\n",
      "\n"
     ]
    }
   ],
   "source": [
    "# Create the blockchain and add the genesis block\n",
    "blockchain = [create_genesis_block()]\n",
    "previous_block = blockchain[0]\n",
    "\n",
    "# How many blocks should we add to the chain\n",
    "# after the genesis block\n",
    "num_of_blocks_to_add = 20\n",
    "\n",
    "# Add blocks to the chain\n",
    "for i in range(0, num_of_blocks_to_add):\n",
    "    block_to_add = next_block(previous_block)\n",
    "    blockchain.append(block_to_add)\n",
    "    previous_block = block_to_add\n",
    "    # Tell everyone about it!\n",
    "    print (\"Block #{} has been added to the blockchain!\".format(block_to_add.index))\n",
    "    print (\"Hash: {}\\n\".format(block_to_add.hash) )"
   ]
  },
  {
   "cell_type": "markdown",
   "metadata": {
    "pycharm": {
     "name": "#%% md\n"
    }
   },
   "source": [
    "## Homework: \n",
    "\n",
    "Implement the rest of the system as one or more Python modules. The code is explained [here](https://medium.com/crypto-currently/lets-make-the-tiniest-blockchain-bigger-ac360a328f4d)."
   ]
  },
  {
   "cell_type": "code",
   "execution_count": null,
   "metadata": {
    "pycharm": {
     "name": "#%%\n"
    }
   },
   "outputs": [],
   "source": []
  }
 ],
 "metadata": {
  "hide_input": false,
  "kernelspec": {
   "display_name": "Python 3",
   "language": "python",
   "name": "python3"
  },
  "language_info": {
   "codemirror_mode": {
    "name": "ipython",
    "version": 3
   },
   "file_extension": ".py",
   "mimetype": "text/x-python",
   "name": "python",
   "nbconvert_exporter": "python",
   "pygments_lexer": "ipython3",
   "version": "3.8.10"
  },
  "latex_envs": {
   "LaTeX_envs_menu_present": true,
   "autoclose": false,
   "autocomplete": true,
   "bibliofile": "biblio.bib",
   "cite_by": "apalike",
   "current_citInitial": 1,
   "eqLabelWithNumbers": true,
   "eqNumInitial": 1,
   "hotkeys": {
    "equation": "Ctrl-E",
    "itemize": "Ctrl-I"
   },
   "labels_anchors": false,
   "latex_user_defs": false,
   "report_style_numbering": false,
   "user_envs_cfg": false
  },
  "nbTranslate": {
   "displayLangs": [
    "*"
   ],
   "hotkey": "alt-t",
   "langInMainMenu": true,
   "sourceLang": "en",
   "targetLang": "fr",
   "useGoogleTranslate": true
  },
  "toc": {
   "base_numbering": 1,
   "nav_menu": {},
   "number_sections": true,
   "sideBar": true,
   "skip_h1_title": false,
   "title_cell": "Table of Contents",
   "title_sidebar": "Contents",
   "toc_cell": false,
   "toc_position": {},
   "toc_section_display": true,
   "toc_window_display": false
  },
  "varInspector": {
   "cols": {
    "lenName": 16,
    "lenType": 16,
    "lenVar": 40
   },
   "kernels_config": {
    "python": {
     "delete_cmd_postfix": "",
     "delete_cmd_prefix": "del ",
     "library": "var_list.py",
     "varRefreshCmd": "print(var_dic_list())"
    },
    "r": {
     "delete_cmd_postfix": ") ",
     "delete_cmd_prefix": "rm(",
     "library": "var_list.r",
     "varRefreshCmd": "cat(var_dic_list()) "
    }
   },
   "types_to_exclude": [
    "module",
    "function",
    "builtin_function_or_method",
    "instance",
    "_Feature"
   ],
   "window_display": false
  }
 },
 "nbformat": 4,
 "nbformat_minor": 2
}